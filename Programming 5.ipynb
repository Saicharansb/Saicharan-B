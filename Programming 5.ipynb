{
 "cells": [
  {
   "cell_type": "code",
   "execution_count": 1,
   "id": "78fc8b1b",
   "metadata": {},
   "outputs": [
    {
     "name": "stdout",
     "output_type": "stream",
     "text": [
      "Enter the first number:12\n",
      "Enter the second number:18\n",
      "LCM is: 36\n"
     ]
    }
   ],
   "source": [
    "#1. Write a Python Program to Find LCM?\n",
    "\n",
    "a=int(input(\"Enter the first number:\"))\n",
    "b=int(input(\"Enter the second number:\"))\n",
    "if(a>b):\n",
    "    num1=a\n",
    "else:\n",
    "    num1=b\n",
    "while(1):\n",
    "    if(num1%a==0 and num1%b==0):\n",
    "        print(\"LCM is:\",num1)\n",
    "        break\n",
    "    num1=num1+1"
   ]
  },
  {
   "cell_type": "code",
   "execution_count": 7,
   "id": "e17ebd6f",
   "metadata": {},
   "outputs": [
    {
     "name": "stdout",
     "output_type": "stream",
     "text": [
      "The H.C.F. is 6\n"
     ]
    }
   ],
   "source": [
    "#2. Write a Python Program to Find HCF?\n",
    "\n",
    "\n",
    "def compute_hcf(x, y):\n",
    "\n",
    "    if x > y:\n",
    "        smaller = y\n",
    "    else:\n",
    "        smaller = x\n",
    "    for i in range(1, smaller+1):\n",
    "        if((x % i == 0) and (y % i == 0)):\n",
    "            hcf = i \n",
    "    return hcf\n",
    "\n",
    "num1 = 12\n",
    "num2 = 18\n",
    "\n",
    "print(\"The H.C.F. is\", compute_hcf(num1, num2))"
   ]
  },
  {
   "cell_type": "code",
   "execution_count": 9,
   "id": "cce0cc31",
   "metadata": {},
   "outputs": [],
   "source": [
    "  \n",
    "hcf = compute_hcf(12, 18)\n"
   ]
  },
  {
   "cell_type": "code",
   "execution_count": 10,
   "id": "ea8f3d12",
   "metadata": {},
   "outputs": [
    {
     "data": {
      "text/plain": [
       "6"
      ]
     },
     "execution_count": 10,
     "metadata": {},
     "output_type": "execute_result"
    }
   ],
   "source": [
    "hcf"
   ]
  },
  {
   "cell_type": "code",
   "execution_count": 14,
   "id": "12b63559",
   "metadata": {},
   "outputs": [
    {
     "name": "stdout",
     "output_type": "stream",
     "text": [
      "Enter the decimal number: 1\n",
      "The decimal value of 1 is:\n",
      "in binary. 0b1\n",
      "in octal 0o1\n",
      "in hexadecimal 0x1\n"
     ]
    }
   ],
   "source": [
    "#3. Write a Python Program to Convert Decimal to Binary, Octal and Hexadecimal?\n",
    "\n",
    "dec = int(input(\"Enter the decimal number: \"))\n",
    "\n",
    "print(\"The decimal value of\", dec, \"is:\")\n",
    "print(\"in binary.\",bin(dec))\n",
    "print(\"in octal\",oct(dec))\n",
    "print( \"in hexadecimal\", hex(dec))"
   ]
  },
  {
   "cell_type": "code",
   "execution_count": 21,
   "id": "6aa66d25",
   "metadata": {},
   "outputs": [
    {
     "name": "stdout",
     "output_type": "stream",
     "text": [
      "Enter the character: r\n",
      "The ASCII value of 'r' is 114\n"
     ]
    }
   ],
   "source": [
    "#4. Write a Python Program To Find ASCII value of a character?\n",
    "\n",
    "char = str(input(\"Enter the character: \"))\n",
    "print(\"The ASCII value of '\" + char + \"' is\", ord(char))"
   ]
  },
  {
   "cell_type": "code",
   "execution_count": 33,
   "id": "a70e0531",
   "metadata": {},
   "outputs": [
    {
     "name": "stdout",
     "output_type": "stream",
     "text": [
      "enter the operation want to perform + - / * : 4\n",
      "enter the firs number:4\n",
      "enter the second number: 4\n",
      "invalid input\n"
     ]
    }
   ],
   "source": [
    "#Write a Python Program to Make a Simple Calculator with 4 basic mathematical operations?\n",
    "\n",
    "c = str(input(\"enter the operation want to perform + - / * : \"))\n",
    "\n",
    "num1= int(input(\"enter the firs number:\"))\n",
    "num2= int(input(\"enter the second number: \"))\n",
    "\n",
    "if c == \"+\":\n",
    "    print(\"result\", num1+num2)\n",
    "elif c== \"-\":\n",
    "    print(\"result\", num1-num2)\n",
    "elif c == \"/\":\n",
    "    print(\"result\", num1/num2)\n",
    "elif c == \"*\":\n",
    "    print(\"result\", num1*num2)\n",
    "else:\n",
    "    print(\"invalid input\")\n"
   ]
  },
  {
   "cell_type": "code",
   "execution_count": null,
   "id": "18c53f98",
   "metadata": {},
   "outputs": [],
   "source": []
  }
 ],
 "metadata": {
  "kernelspec": {
   "display_name": "Python 3 (ipykernel)",
   "language": "python",
   "name": "python3"
  },
  "language_info": {
   "codemirror_mode": {
    "name": "ipython",
    "version": 3
   },
   "file_extension": ".py",
   "mimetype": "text/x-python",
   "name": "python",
   "nbconvert_exporter": "python",
   "pygments_lexer": "ipython3",
   "version": "3.9.12"
  }
 },
 "nbformat": 4,
 "nbformat_minor": 5
}
