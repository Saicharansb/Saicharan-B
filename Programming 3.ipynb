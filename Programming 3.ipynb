{
 "cells": [
  {
   "cell_type": "code",
   "execution_count": null,
   "id": "0b042e3a",
   "metadata": {},
   "outputs": [],
   "source": [
    "#Write a Python Program to Check if a Number is Positive, Negative or Zero?\n",
    "a = int(input('Enter the number:  '))\n",
    "if a>0:\n",
    "    print('Entered value is positive')\n",
    "elif a== 0:\n",
    "    print('Entered number is zero')\n",
    "else:\n",
    "    print('Entered number is negative')"
   ]
  },
  {
   "cell_type": "code",
   "execution_count": null,
   "id": "5b91e39f",
   "metadata": {},
   "outputs": [],
   "source": [
    "#2. Write a Python Program to Check if a Number is Odd or Even?\n",
    "\n",
    "num= int(input('Enter the number'))\n",
    "if num % 2==0:\n",
    "    print('Entered number is even')\n",
    "else:\n",
    "    print('Entered number is Odd')"
   ]
  },
  {
   "cell_type": "code",
   "execution_count": null,
   "id": "97a1b7cc",
   "metadata": {},
   "outputs": [],
   "source": [
    "#3. Write a Python Program to Check Leap Year?\n",
    "year = int(input('Enter the year'))\n",
    "\n",
    "if year % 4 ==0:\n",
    "    print(year,'is a leap year')\n",
    "else:\n",
    "    print(year,'is NOT a leap year')"
   ]
  },
  {
   "cell_type": "code",
   "execution_count": null,
   "id": "9966aa85",
   "metadata": {},
   "outputs": [],
   "source": [
    "#4. Write a Python Program to Check Prime Number?\n",
    "num = int(input('Enter the number'))\n",
    "if num % 2 == float:\n",
    "    print('Entered number is NOT a prime number')\n",
    "else:\n",
    "    print('Entered number is Prime Number')"
   ]
  },
  {
   "cell_type": "code",
   "execution_count": null,
   "id": "d10e589c",
   "metadata": {},
   "outputs": [],
   "source": [
    "#4. Write a Python Program to Check Prime Number?\n",
    "num = int(input('Enter the number: '))\n",
    "\n",
    "if num >1:\n",
    "    for i in range(2, num):\n",
    "        if num % i ==0:\n",
    "            print( num , 'is not a prime number')\n",
    "            print(i, 'times', num//i,'is', num)\n",
    "            break\n",
    "    else:\n",
    "        print(num,'is a prime number')\n",
    "else:\n",
    "    print(num,'is not a prime number')"
   ]
  },
  {
   "cell_type": "code",
   "execution_count": null,
   "id": "53cf3c92",
   "metadata": {},
   "outputs": [],
   "source": [
    "#5. Write a Python Program to Print all Prime Numbers in an Interval of 1-10000?\n",
    "\n",
    "l1 = 1\n",
    "l2 = 10000\n",
    "\n",
    "for i in range(l1,l2+1):\n",
    "    if i>1:\n",
    "        for j in range(2,i):\n",
    "            if i % 2==0:\n",
    "                break\n",
    "        else:\n",
    "            print(i)\n",
    "        \n",
    "    "
   ]
  },
  {
   "cell_type": "code",
   "execution_count": null,
   "id": "e6e6c0e9",
   "metadata": {},
   "outputs": [],
   "source": []
  }
 ],
 "metadata": {
  "kernelspec": {
   "display_name": "Python 3 (ipykernel)",
   "language": "python",
   "name": "python3"
  },
  "language_info": {
   "codemirror_mode": {
    "name": "ipython",
    "version": 3
   },
   "file_extension": ".py",
   "mimetype": "text/x-python",
   "name": "python",
   "nbconvert_exporter": "python",
   "pygments_lexer": "ipython3",
   "version": "3.9.12"
  }
 },
 "nbformat": 4,
 "nbformat_minor": 5
}
