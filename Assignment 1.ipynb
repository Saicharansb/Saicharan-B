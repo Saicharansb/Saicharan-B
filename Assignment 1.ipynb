{
 "cells": [
  {
   "cell_type": "markdown",
   "id": "271e9ed9",
   "metadata": {},
   "source": [
    "1. In the below elements which of them are values or an expression? eg:- values can be integer or string and expressions will be mathematical operators."
   ]
  },
  {
   "cell_type": "markdown",
   "id": "f8a5c958",
   "metadata": {},
   "source": [
    "*  \"*\"  is mathematical operator used for multiplication. ** for raise(square)\n",
    "hello - string\n",
    "-87.8 - int\n",
    "-     - expression\n",
    "/     - exprssion\n",
    "+     - expression\n",
    "6     - int"
   ]
  },
  {
   "cell_type": "markdown",
   "id": "d88c91cf",
   "metadata": {},
   "source": [
    "2. What is the difference between string and variable?\n",
    " String- is a word of character, alphabets or paragraphs quoted in single or double. whereas varaible is a value where we can store any value."
   ]
  },
  {
   "cell_type": "markdown",
   "id": "ac9ea0e3",
   "metadata": {},
   "source": [
    "3. Describe three different data types.\n",
    "1.String\n",
    "2.integer\n",
    "3.float\n",
    "4.boolean\n",
    "5.complex"
   ]
  },
  {
   "cell_type": "markdown",
   "id": "439dd4e6",
   "metadata": {},
   "source": [
    "3.What is an expression made up of? What do all expressions do?\n",
    "expression is made up with various operations like mathematical, logical, boolean. Expression will result in logical as per the input.\n"
   ]
  },
  {
   "cell_type": "markdown",
   "id": "dba2af0a",
   "metadata": {},
   "source": [
    "5. This assignment statements, like spam = 10. What is the difference between an expression and a statement?\n",
    "Expression- is a variable with the real number and imaginary which can be a complex too.  whereas statement is straight a way in string type."
   ]
  },
  {
   "cell_type": "markdown",
   "id": "c6db1405",
   "metadata": {},
   "source": [
    "5. This assignment statements, like spam = 10. What is the difference between an expression and a statement?"
   ]
  },
  {
   "cell_type": "markdown",
   "id": "e9ad5736",
   "metadata": {},
   "source": [
    "6. After running the following code, what does the variable bacon contain?\n",
    "bacon = 22\n",
    "bacon + 1\n",
    "\n",
    "Ans- yes"
   ]
  },
  {
   "cell_type": "code",
   "execution_count": 2,
   "id": "9c8306bb",
   "metadata": {},
   "outputs": [],
   "source": [
    "bacon=22"
   ]
  },
  {
   "cell_type": "code",
   "execution_count": 3,
   "id": "733f2968",
   "metadata": {},
   "outputs": [
    {
     "data": {
      "text/plain": [
       "23"
      ]
     },
     "execution_count": 3,
     "metadata": {},
     "output_type": "execute_result"
    }
   ],
   "source": [
    "bacon+1"
   ]
  },
  {
   "cell_type": "markdown",
   "id": "b95fa053",
   "metadata": {},
   "source": [
    "7. What should the values of the following two terms be?\n",
    "'spam' + 'spamspam'\n",
    "'spam' * 3\n",
    "Ans- conjugates and multiplicates. "
   ]
  },
  {
   "cell_type": "code",
   "execution_count": 4,
   "id": "7577a297",
   "metadata": {},
   "outputs": [
    {
     "data": {
      "text/plain": [
       "'spamspamspam'"
      ]
     },
     "execution_count": 4,
     "metadata": {},
     "output_type": "execute_result"
    }
   ],
   "source": [
    "'spam'+'spamspam'"
   ]
  },
  {
   "cell_type": "code",
   "execution_count": 5,
   "id": "383517c5",
   "metadata": {},
   "outputs": [
    {
     "data": {
      "text/plain": [
       "'spamspamspam'"
      ]
     },
     "execution_count": 5,
     "metadata": {},
     "output_type": "execute_result"
    }
   ],
   "source": [
    "'spam'*3"
   ]
  },
  {
   "cell_type": "markdown",
   "id": "0409f132",
   "metadata": {},
   "source": [
    "Why is eggs a valid variable name while 100 is invalid?\n",
    "Ans- 100 is a literal, hence can not be used as varaible."
   ]
  },
  {
   "cell_type": "markdown",
   "id": "4fa3d4a3",
   "metadata": {},
   "source": [
    "9. What three functions can be used to get the integer, floating-point number, or string version of a value?\n",
    "by using type()"
   ]
  },
  {
   "cell_type": "markdown",
   "id": "e09f5b5a",
   "metadata": {},
   "source": [
    "10. Why does this expression cause an error? How can you fix it?\n",
    "'I have eaten ' + 99 + ' burritos.'\n",
    " ans- integer can not be concatenate with string. number can be converted into int by putting in sngle quotes."
   ]
  },
  {
   "cell_type": "code",
   "execution_count": 7,
   "id": "38dd9fc0",
   "metadata": {},
   "outputs": [
    {
     "ename": "TypeError",
     "evalue": "can only concatenate str (not \"int\") to str",
     "output_type": "error",
     "traceback": [
      "\u001b[1;31m---------------------------------------------------------------------------\u001b[0m",
      "\u001b[1;31mTypeError\u001b[0m                                 Traceback (most recent call last)",
      "Input \u001b[1;32mIn [7]\u001b[0m, in \u001b[0;36m<cell line: 1>\u001b[1;34m()\u001b[0m\n\u001b[1;32m----> 1\u001b[0m \u001b[38;5;124;43m'\u001b[39;49m\u001b[38;5;124;43mI have eaten \u001b[39;49m\u001b[38;5;124;43m'\u001b[39;49m\u001b[43m \u001b[49m\u001b[38;5;241;43m+\u001b[39;49m\u001b[43m \u001b[49m\u001b[38;5;241;43m99\u001b[39;49m \u001b[38;5;241m+\u001b[39m \u001b[38;5;124m'\u001b[39m\u001b[38;5;124m burritos.\u001b[39m\u001b[38;5;124m'\u001b[39m\n",
      "\u001b[1;31mTypeError\u001b[0m: can only concatenate str (not \"int\") to str"
     ]
    }
   ],
   "source": [
    "'I have eaten ' + 99 + ' burritos.'"
   ]
  },
  {
   "cell_type": "code",
   "execution_count": 8,
   "id": "de4949e1",
   "metadata": {},
   "outputs": [
    {
     "data": {
      "text/plain": [
       "'I have eaten 99 burritos.'"
      ]
     },
     "execution_count": 8,
     "metadata": {},
     "output_type": "execute_result"
    }
   ],
   "source": [
    "'I have eaten ' + '99' + ' burritos.'"
   ]
  },
  {
   "cell_type": "code",
   "execution_count": null,
   "id": "b5939a88",
   "metadata": {},
   "outputs": [],
   "source": []
  }
 ],
 "metadata": {
  "kernelspec": {
   "display_name": "Python 3 (ipykernel)",
   "language": "python",
   "name": "python3"
  },
  "language_info": {
   "codemirror_mode": {
    "name": "ipython",
    "version": 3
   },
   "file_extension": ".py",
   "mimetype": "text/x-python",
   "name": "python",
   "nbconvert_exporter": "python",
   "pygments_lexer": "ipython3",
   "version": "3.9.12"
  }
 },
 "nbformat": 4,
 "nbformat_minor": 5
}
