{
 "cells": [
  {
   "cell_type": "code",
   "execution_count": 3,
   "id": "6cc0c7e4",
   "metadata": {},
   "outputs": [
    {
     "name": "stdout",
     "output_type": "stream",
     "text": [
      "What are escape characters,\"Adding \" and how do you use them.\n"
     ]
    }
   ],
   "source": [
    "#1. What are escape characters, and how do you use them?\n",
    "#Escape characters are used for inserting any string value inside the string by using backslash with double quotes.\n",
    "test = \"What are escape characters,\\\"Adding \\\" and how do you use them.\"\n",
    "print(test) "
   ]
  },
  {
   "cell_type": "code",
   "execution_count": null,
   "id": "2642e9be",
   "metadata": {},
   "outputs": [],
   "source": [
    "\\\\- for backslash\n",
    "\\r - for re-return\n",
    "\\n - for new line\n",
    "\\t - for tab\n",
    "\\b - for backspace"
   ]
  },
  {
   "cell_type": "code",
   "execution_count": null,
   "id": "81088489",
   "metadata": {},
   "outputs": [],
   "source": [
    "2. What do the escape characters n and t stand for?\n",
    "n- stands for new line\n",
    "t- stands for tab(single tab)"
   ]
  },
  {
   "cell_type": "code",
   "execution_count": null,
   "id": "335f6e08",
   "metadata": {},
   "outputs": [],
   "source": [
    "3. What is the way to include backslash characters in a string?\n",
    "by using \\\\ for backsplash"
   ]
  },
  {
   "cell_type": "code",
   "execution_count": 5,
   "id": "78e95dfe",
   "metadata": {},
   "outputs": [
    {
     "name": "stdout",
     "output_type": "stream",
     "text": [
      "Howl's Moving Castle\n"
     ]
    }
   ],
   "source": [
    "#4. The string \"Howl's Moving Castle\" is a correct value.\n",
    "#Why isn't the single quote character in the word Howl's not escaped a problem\n",
    "#- single quoted character is not a defined function in python.\n",
    "\n",
    "string=\"Howl's Moving Castle\"\n",
    "print(string)"
   ]
  },
  {
   "cell_type": "code",
   "execution_count": 19,
   "id": "224643ed",
   "metadata": {},
   "outputs": [
    {
     "name": "stdout",
     "output_type": "stream",
     "text": [
      "World\n"
     ]
    }
   ],
   "source": [
    "#5. How do you write a string of newlines if you don't want to use the n character?\n",
    "str = 'Hello, \\rWorld'\n",
    "print(str)"
   ]
  },
  {
   "cell_type": "code",
   "execution_count": 20,
   "id": "2012f2f2",
   "metadata": {},
   "outputs": [
    {
     "name": "stdout",
     "output_type": "stream",
     "text": [
      "ight.\n"
     ]
    }
   ],
   "source": [
    "txt = 'It\\'s al\\right.'\n",
    "print(txt)"
   ]
  },
  {
   "cell_type": "code",
   "execution_count": 1,
   "id": "1a601d6b",
   "metadata": {},
   "outputs": [
    {
     "data": {
      "text/plain": [
       "'e'"
      ]
     },
     "execution_count": 1,
     "metadata": {},
     "output_type": "execute_result"
    }
   ],
   "source": [
    "\n",
    "#6. What are the values of the given expressions?\n",
    "'Hellow World'[1]"
   ]
  },
  {
   "cell_type": "code",
   "execution_count": 2,
   "id": "3235c283",
   "metadata": {},
   "outputs": [
    {
     "data": {
      "text/plain": [
       "'Hello'"
      ]
     },
     "execution_count": 2,
     "metadata": {},
     "output_type": "execute_result"
    }
   ],
   "source": [
    "\n",
    "'Hellow World'[0:5]"
   ]
  },
  {
   "cell_type": "code",
   "execution_count": 3,
   "id": "c01cc726",
   "metadata": {},
   "outputs": [
    {
     "data": {
      "text/plain": [
       "'Hello'"
      ]
     },
     "execution_count": 3,
     "metadata": {},
     "output_type": "execute_result"
    }
   ],
   "source": [
    "\n",
    "'Hellow World'[:5]"
   ]
  },
  {
   "cell_type": "code",
   "execution_count": 4,
   "id": "fed82117",
   "metadata": {},
   "outputs": [
    {
     "data": {
      "text/plain": [
       "'low World'"
      ]
     },
     "execution_count": 4,
     "metadata": {},
     "output_type": "execute_result"
    }
   ],
   "source": [
    "'Hellow World'[3:]"
   ]
  },
  {
   "cell_type": "code",
   "execution_count": 5,
   "id": "4b3470a7",
   "metadata": {},
   "outputs": [
    {
     "data": {
      "text/plain": [
       "'hellow'"
      ]
     },
     "execution_count": 5,
     "metadata": {},
     "output_type": "execute_result"
    }
   ],
   "source": [
    "#7. What are the values of the following expressions?\n",
    "\n",
    "'Hellow'.upper()\n"
   ]
  },
  {
   "cell_type": "code",
   "execution_count": 6,
   "id": "5d9d0731",
   "metadata": {},
   "outputs": [
    {
     "data": {
      "text/plain": [
       "True"
      ]
     },
     "execution_count": 6,
     "metadata": {},
     "output_type": "execute_result"
    }
   ],
   "source": [
    "'Hellow'.upper().isupper()"
   ]
  },
  {
   "cell_type": "code",
   "execution_count": 7,
   "id": "d2b52395",
   "metadata": {},
   "outputs": [
    {
     "data": {
      "text/plain": [
       "'hellow'"
      ]
     },
     "execution_count": 7,
     "metadata": {},
     "output_type": "execute_result"
    }
   ],
   "source": [
    "'Hellow'.upper().lower()"
   ]
  },
  {
   "cell_type": "code",
   "execution_count": 8,
   "id": "44eeb9e7",
   "metadata": {},
   "outputs": [
    {
     "data": {
      "text/plain": [
       "['Remember,', 'remember,', 'the', 'fifth', 'of', 'July']"
      ]
     },
     "execution_count": 8,
     "metadata": {},
     "output_type": "execute_result"
    }
   ],
   "source": [
    "#8. What are the values of the following expressions?\n",
    "'Remember, remember, the fifth of July'.split()"
   ]
  },
  {
   "cell_type": "code",
   "execution_count": 9,
   "id": "d5f5d845",
   "metadata": {},
   "outputs": [
    {
     "name": "stdout",
     "output_type": "stream",
     "text": [
      "@@@@@@@@@@@@@@@ India is my country@@@@@@@@@@@@@@@\n",
      "                India is my country                \n",
      " India is my country______________________________\n",
      "                               India is my country *\n",
      "****************************** India is my country\n"
     ]
    }
   ],
   "source": [
    "#9. What are the methods for right-justifying, left-justifying, and centering a string?\n",
    "# Python3 code to demonstrate \n",
    "# the working of center()\n",
    "\n",
    "Test = \" India is my country\"\n",
    "#Print(\"The original string is : \\n\", Test, \"\\n\")\n",
    "print(Test.center(50,\"@\"))\n",
    "print(Test.center(50),\"\")\n",
    "print(Test.ljust(50,\"_\"))\n",
    "print(Test.rjust(50),\"*\")\n",
    "print(Test.rjust(50,\"*\"))"
   ]
  },
  {
   "cell_type": "code",
   "execution_count": 10,
   "id": "a388c57f",
   "metadata": {},
   "outputs": [
    {
     "ename": "SyntaxError",
     "evalue": "invalid syntax (792409675.py, line 2)",
     "output_type": "error",
     "traceback": [
      "\u001b[1;36m  Input \u001b[1;32mIn [10]\u001b[1;36m\u001b[0m\n\u001b[1;33m    by using ltrim()\u001b[0m\n\u001b[1;37m       ^\u001b[0m\n\u001b[1;31mSyntaxError\u001b[0m\u001b[1;31m:\u001b[0m invalid syntax\n"
     ]
    }
   ],
   "source": [
    "#10. What is the best way to remove whitespace characters from the start or end?\n",
    "by using ltrim()"
   ]
  },
  {
   "cell_type": "code",
   "execution_count": null,
   "id": "aaa10b7a",
   "metadata": {},
   "outputs": [],
   "source": []
  }
 ],
 "metadata": {
  "kernelspec": {
   "display_name": "Python 3 (ipykernel)",
   "language": "python",
   "name": "python3"
  },
  "language_info": {
   "codemirror_mode": {
    "name": "ipython",
    "version": 3
   },
   "file_extension": ".py",
   "mimetype": "text/x-python",
   "name": "python",
   "nbconvert_exporter": "python",
   "pygments_lexer": "ipython3",
   "version": "3.9.12"
  }
 },
 "nbformat": 4,
 "nbformat_minor": 5
}
