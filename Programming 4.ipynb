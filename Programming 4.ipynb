{
 "cells": [
  {
   "cell_type": "code",
   "execution_count": null,
   "id": "10aab8d2",
   "metadata": {},
   "outputs": [],
   "source": [
    "#1. Write a Python Program to Find the Factorial of a Number?\n",
    "\n",
    "num = int(input('Enter the number: '))\n",
    "factorial = 1\n",
    "\n",
    "if num < 0:\n",
    "    print('Factorail less than',num ,'not exit')\n",
    "elif num == 0:\n",
    "    print('Factorial of',num,' is 1')\n",
    "else:\n",
    "    for i in range(1, num +1):\n",
    "        factorial =factorial*i\n",
    "    print('Factorial of',num, 'is', factorial)\n",
    "    "
   ]
  },
  {
   "cell_type": "code",
   "execution_count": null,
   "id": "26fee96e",
   "metadata": {},
   "outputs": [],
   "source": [
    "def factorial(x):\n",
    "    if x ==1:\n",
    "        return 1\n",
    "    else:\n",
    "        return(x * factorial(x-1))\n",
    "num = int(input('ENter the number: '))\n",
    "\n",
    "result = factorial(num)\n",
    "print('factorial of',num,'is', result)"
   ]
  },
  {
   "cell_type": "code",
   "execution_count": null,
   "id": "c704e8bc",
   "metadata": {},
   "outputs": [],
   "source": [
    "#2.Write a Python Program to Display the multiplication Table?\n",
    "num = int(input('Enter the Multiplication table no: '))\n",
    "\n",
    "for i in range(1,11):\n",
    "    print(num,'x',i ,'=', i*num)"
   ]
  },
  {
   "cell_type": "code",
   "execution_count": null,
   "id": "7f0fbe80",
   "metadata": {},
   "outputs": [],
   "source": [
    "#3.Write a Python Program to Print the Fibonacci sequence?\n",
    "def genfib(n):\n",
    "    a = 1\n",
    "    b = 1\n",
    "    l = []\n",
    "    \n",
    "    for i in range(n):\n",
    "        l.append(a)\n",
    "        a,b = b , a+b\n",
    "    return l"
   ]
  },
  {
   "cell_type": "code",
   "execution_count": null,
   "id": "207dc87a",
   "metadata": {},
   "outputs": [],
   "source": [
    "genfib(10)"
   ]
  },
  {
   "cell_type": "code",
   "execution_count": null,
   "id": "6fa2b665",
   "metadata": {},
   "outputs": [],
   "source": [
    "#4. Write a Python Program to Check Armstrong Number?\n",
    "# Python program to check if the number is an Armstrong number or not\n",
    "\n",
    "num = int(input(\"Enter a number: \"))\n",
    "\n",
    "sum = 0\n",
    "\n",
    "temp = num\n",
    "while temp > 0:\n",
    "    \n",
    "    digit = temp % 10\n",
    "    sum += digit ** 3\n",
    "    temp //= 10\n",
    "if num == sum:\n",
    "    print(num,\"is an Armstrong number\")\n",
    "else:\n",
    "    print(num,\"is not an Armstrong number\")\n"
   ]
  },
  {
   "cell_type": "code",
   "execution_count": null,
   "id": "40ba0720",
   "metadata": {},
   "outputs": [],
   "source": [
    "#5. Write a Python Program to Find Armstrong Number in an Interval?\n",
    "# Program to check Armstrong numbers in a certain interval\n",
    "\n",
    "bound1 = 100\n",
    "bound2 = 2000\n",
    "\n",
    "for num in range(bound1, bound2 + 1):\n",
    "    order = len(str(num))\n",
    "    sum = 0\n",
    "    temp = num\n",
    "    while temp > 0:\n",
    "        digit = temp % 10\n",
    "        sum += digit ** order\n",
    "        temp //= 10\n",
    "\n",
    "    if num == sum:\n",
    "        print(num)\n"
   ]
  },
  {
   "cell_type": "code",
   "execution_count": null,
   "id": "2b9b6946",
   "metadata": {},
   "outputs": [],
   "source": [
    "#Write a Python Program to Find the Sum of Natural Numbers?\n",
    "num=int(input('Enter the natural positive number: '))\n",
    "sum = 0\n",
    "while (num>0):\n",
    "    sum += num\n",
    "    num -= 1\n",
    "print(sum)"
   ]
  },
  {
   "cell_type": "code",
   "execution_count": null,
   "id": "f9aade42",
   "metadata": {},
   "outputs": [],
   "source": []
  }
 ],
 "metadata": {
  "kernelspec": {
   "display_name": "Python 3 (ipykernel)",
   "language": "python",
   "name": "python3"
  },
  "language_info": {
   "codemirror_mode": {
    "name": "ipython",
    "version": 3
   },
   "file_extension": ".py",
   "mimetype": "text/x-python",
   "name": "python",
   "nbconvert_exporter": "python",
   "pygments_lexer": "ipython3",
   "version": "3.9.12"
  }
 },
 "nbformat": 4,
 "nbformat_minor": 5
}
