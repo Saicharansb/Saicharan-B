{
 "cells": [
  {
   "cell_type": "code",
   "execution_count": 8,
   "id": "2290baf5",
   "metadata": {},
   "outputs": [],
   "source": [
    "#1. Write a Python Program to Display Fibonacci Sequence Using Recursion?\n",
    "def genfib(n):\n",
    "    a = 0\n",
    "    b = 1\n",
    "    l = []\n",
    "    \n",
    "    for i in range(n):\n",
    "        l.append(a)\n",
    "        a,b = b , a+b\n",
    "    return l"
   ]
  },
  {
   "cell_type": "code",
   "execution_count": 9,
   "id": "91e12d3d",
   "metadata": {},
   "outputs": [
    {
     "data": {
      "text/plain": [
       "[0, 1, 1, 2, 3]"
      ]
     },
     "execution_count": 9,
     "metadata": {},
     "output_type": "execute_result"
    }
   ],
   "source": [
    "genfib(5)"
   ]
  },
  {
   "cell_type": "code",
   "execution_count": 11,
   "id": "83592033",
   "metadata": {},
   "outputs": [
    {
     "name": "stdout",
     "output_type": "stream",
     "text": [
      "enter the number: 5\n",
      "The factorial of 5 is 120\n"
     ]
    }
   ],
   "source": [
    "#2. Write a Python Program to Find Factorial of Number Using Recursion?\n",
    "\n",
    "def recur_factorial(n):\n",
    "    if n == 1:\n",
    "        return n\n",
    "    else:\n",
    "        return n*recur_factorial(n-1)\n",
    "\n",
    "num = int(input(\"enter the number: \"))\n",
    "\n",
    "if num < 0:\n",
    "    print(\"Sorry, factorial does not exist for negative numbers\")\n",
    "elif num == 0:\n",
    "    print(\"The factorial of 0 is 1\")\n",
    "else:\n",
    "    print(\"The factorial of\", num, \"is\", recur_factorial(num))"
   ]
  },
  {
   "cell_type": "code",
   "execution_count": 17,
   "id": "b9a8d436",
   "metadata": {},
   "outputs": [
    {
     "name": "stdout",
     "output_type": "stream",
     "text": [
      "Input your height in Feet: 6\n",
      "Input your weight in Kilogram: 65\n",
      "Your body mass index is:  1.806\n"
     ]
    }
   ],
   "source": [
    "#3. Write a Python Program to calculate your Body Mass Index?\n",
    "height = float(input(\"Input your height in Feet: \"))\n",
    "weight = float(input(\"Input your weight in Kilogram: \"))\n",
    "print(\"Your body mass index is: \", round(weight / (height**2),3))"
   ]
  },
  {
   "cell_type": "code",
   "execution_count": 22,
   "id": "afcba412",
   "metadata": {},
   "outputs": [
    {
     "name": "stdout",
     "output_type": "stream",
     "text": [
      "math.log(1.1) :  0.09531017980432493\n",
      "math.log(10) :  2.302585092994046\n"
     ]
    }
   ],
   "source": [
    "#4. Write a Python Program to calculate the natural logarithm of any number?\n",
    "import math\n",
    "print (\"math.log(1.1) : \", math.log(1.1))\n",
    "print (\"math.log(10) : \", math.log(10))\n"
   ]
  },
  {
   "cell_type": "code",
   "execution_count": 27,
   "id": "d6dcfd74",
   "metadata": {},
   "outputs": [
    {
     "name": "stdout",
     "output_type": "stream",
     "text": [
      "Enter the number:2\n",
      "9\n"
     ]
    }
   ],
   "source": [
    "#5. Write a Python Program for cube sum of first n natural numbers?\n",
    "def sum_Series(n):\n",
    "    sum = 0\n",
    "    for i in range(1, n+1):\n",
    "       sum +=i*i*i\n",
    "    return sum\n",
    "n = int(input(\"Enter the number:\"))\n",
    "\n",
    "print(sum_Series(n))"
   ]
  },
  {
   "cell_type": "code",
   "execution_count": null,
   "id": "be6bba18",
   "metadata": {},
   "outputs": [],
   "source": []
  }
 ],
 "metadata": {
  "kernelspec": {
   "display_name": "Python 3 (ipykernel)",
   "language": "python",
   "name": "python3"
  },
  "language_info": {
   "codemirror_mode": {
    "name": "ipython",
    "version": 3
   },
   "file_extension": ".py",
   "mimetype": "text/x-python",
   "name": "python",
   "nbconvert_exporter": "python",
   "pygments_lexer": "ipython3",
   "version": "3.9.12"
  }
 },
 "nbformat": 4,
 "nbformat_minor": 5
}
