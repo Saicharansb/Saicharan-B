{
 "cells": [
  {
   "cell_type": "code",
   "execution_count": 1,
   "id": "6a90605b",
   "metadata": {},
   "outputs": [
    {
     "name": "stdout",
     "output_type": "stream",
     "text": [
      "Hello Python\n"
     ]
    }
   ],
   "source": [
    "#1. Write a Python program to print \"Hello Python\"\n",
    "print(\"Hello Python\")"
   ]
  },
  {
   "cell_type": "code",
   "execution_count": 2,
   "id": "6060e225",
   "metadata": {},
   "outputs": [],
   "source": [
    "#2. Write a Python program to do arithmetical operations addition and division.?\n",
    "a = 10\n",
    "b = 20"
   ]
  },
  {
   "cell_type": "code",
   "execution_count": 3,
   "id": "ed126c86",
   "metadata": {},
   "outputs": [
    {
     "name": "stdout",
     "output_type": "stream",
     "text": [
      "30\n"
     ]
    }
   ],
   "source": [
    "c = a+b\n",
    "print(c)"
   ]
  },
  {
   "cell_type": "code",
   "execution_count": 4,
   "id": "c8bfae36",
   "metadata": {},
   "outputs": [
    {
     "name": "stdout",
     "output_type": "stream",
     "text": [
      "Enter the base:  4\n",
      "Enter the height: 4\n",
      "Area of triangel is  8.0 squares\n"
     ]
    }
   ],
   "source": [
    "#3. Write a Python program to find the area of a triangle?\n",
    "base = int(input('Enter the base:  '))\n",
    "height = int(input('Enter the height: '))\n",
    "area = 0.5 * base * height\n",
    "print(\"Area of triangel is \", area , \"squares\")"
   ]
  },
  {
   "cell_type": "code",
   "execution_count": 5,
   "id": "f0566e35",
   "metadata": {},
   "outputs": [],
   "source": [
    "#Write a Python program to swap two variables?\n",
    "x = 10\n",
    "y = 25"
   ]
  },
  {
   "cell_type": "code",
   "execution_count": 6,
   "id": "dba35e74",
   "metadata": {},
   "outputs": [],
   "source": [
    "x,y =y,x"
   ]
  },
  {
   "cell_type": "code",
   "execution_count": 7,
   "id": "5c82656c",
   "metadata": {},
   "outputs": [
    {
     "data": {
      "text/plain": [
       "25"
      ]
     },
     "execution_count": 7,
     "metadata": {},
     "output_type": "execute_result"
    }
   ],
   "source": [
    "x"
   ]
  },
  {
   "cell_type": "code",
   "execution_count": 8,
   "id": "acd9cea7",
   "metadata": {},
   "outputs": [],
   "source": [
    "a =15\n",
    "b = 25\n"
   ]
  },
  {
   "cell_type": "code",
   "execution_count": 9,
   "id": "cbae50c7",
   "metadata": {},
   "outputs": [],
   "source": [
    "x = a\n",
    "a = b\n",
    "b = x"
   ]
  },
  {
   "cell_type": "code",
   "execution_count": 10,
   "id": "d35d2a78",
   "metadata": {},
   "outputs": [
    {
     "name": "stdout",
     "output_type": "stream",
     "text": [
      "The value of a after swapping :25\n",
      "The value of b after swapping :15\n"
     ]
    }
   ],
   "source": [
    "print('The value of a after swapping :{}'.format(a))\n",
    "print('The value of b after swapping :{}'.format(b))"
   ]
  },
  {
   "cell_type": "code",
   "execution_count": 11,
   "id": "842b4c96",
   "metadata": {},
   "outputs": [
    {
     "name": "stdout",
     "output_type": "stream",
     "text": [
      "51\n"
     ]
    }
   ],
   "source": [
    "#5. Write a Python program to generate a random number?\n",
    "import random\n",
    "print(random.randint(0,100))"
   ]
  },
  {
   "cell_type": "code",
   "execution_count": null,
   "id": "f655f8c2",
   "metadata": {},
   "outputs": [],
   "source": []
  }
 ],
 "metadata": {
  "kernelspec": {
   "display_name": "Python 3 (ipykernel)",
   "language": "python",
   "name": "python3"
  },
  "language_info": {
   "codemirror_mode": {
    "name": "ipython",
    "version": 3
   },
   "file_extension": ".py",
   "mimetype": "text/x-python",
   "name": "python",
   "nbconvert_exporter": "python",
   "pygments_lexer": "ipython3",
   "version": "3.9.12"
  }
 },
 "nbformat": 4,
 "nbformat_minor": 5
}
