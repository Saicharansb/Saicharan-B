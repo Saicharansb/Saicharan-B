{
 "cells": [
  {
   "cell_type": "code",
   "execution_count": null,
   "id": "79ec5c5a",
   "metadata": {},
   "outputs": [],
   "source": [
    "# 1.What are the two values of the Boolean data type? How do you write them?\n",
    "True and False.\n"
   ]
  },
  {
   "cell_type": "code",
   "execution_count": null,
   "id": "aa07068c",
   "metadata": {},
   "outputs": [],
   "source": [
    "# What are the three different types of Boolean operators?\n",
    "isalnum, isnumeric, isalpha."
   ]
  },
  {
   "cell_type": "code",
   "execution_count": 2,
   "id": "4befa3c8",
   "metadata": {},
   "outputs": [],
   "source": [
    "# 3. Make a list of each Boolean operator's truth tables \n",
    "#(i.e. every possible combination of Boolean values for the operator and what it evaluate ).\n",
    "a='sai'"
   ]
  },
  {
   "cell_type": "code",
   "execution_count": 9,
   "id": "d256061e",
   "metadata": {},
   "outputs": [
    {
     "name": "stdout",
     "output_type": "stream",
     "text": [
      "True True True False False\n"
     ]
    }
   ],
   "source": [
    "print(a.isalpha(),a.isascii(),a.islower(),a.isnumeric(),a.isupper())"
   ]
  },
  {
   "cell_type": "code",
   "execution_count": 10,
   "id": "7ab3901f",
   "metadata": {},
   "outputs": [],
   "source": [
    "''' What are the values of the following expressions?\n",
    "(5 > 4) and (3 == 5)\n",
    "not (5 > 4)\n",
    "(5 > 4) or (3 == 5)\n",
    "not ((5 > 4) or (3 == 5))\n",
    "(True and True) and (True == False)\n",
    "(not False) or (not True)\n",
    "'''\n",
    "a=3\n",
    "b=4\n",
    "c=5"
   ]
  },
  {
   "cell_type": "code",
   "execution_count": 11,
   "id": "c88c5d2b",
   "metadata": {},
   "outputs": [
    {
     "data": {
      "text/plain": [
       "False"
      ]
     },
     "execution_count": 11,
     "metadata": {},
     "output_type": "execute_result"
    }
   ],
   "source": [
    "c>b and a==5"
   ]
  },
  {
   "cell_type": "code",
   "execution_count": 13,
   "id": "d9d0876c",
   "metadata": {},
   "outputs": [
    {
     "data": {
      "text/plain": [
       "False"
      ]
     },
     "execution_count": 13,
     "metadata": {},
     "output_type": "execute_result"
    }
   ],
   "source": [
    "(5>4)!=(5>4)"
   ]
  },
  {
   "cell_type": "code",
   "execution_count": 14,
   "id": "7d075d03",
   "metadata": {},
   "outputs": [
    {
     "data": {
      "text/plain": [
       "True"
      ]
     },
     "execution_count": 14,
     "metadata": {},
     "output_type": "execute_result"
    }
   ],
   "source": [
    "5>4 or 3==5 "
   ]
  },
  {
   "cell_type": "code",
   "execution_count": 15,
   "id": "e48d18a2",
   "metadata": {},
   "outputs": [
    {
     "data": {
      "text/plain": [
       "False"
      ]
     },
     "execution_count": 15,
     "metadata": {},
     "output_type": "execute_result"
    }
   ],
   "source": [
    "(True and True) and (True == False)"
   ]
  },
  {
   "cell_type": "code",
   "execution_count": 17,
   "id": "7831dad7",
   "metadata": {},
   "outputs": [
    {
     "data": {
      "text/plain": [
       "True"
      ]
     },
     "execution_count": 17,
     "metadata": {},
     "output_type": "execute_result"
    }
   ],
   "source": [
    "(False) or (True)"
   ]
  },
  {
   "cell_type": "code",
   "execution_count": 18,
   "id": "ee38d496",
   "metadata": {},
   "outputs": [
    {
     "ename": "SyntaxError",
     "evalue": "invalid syntax (3872045573.py, line 2)",
     "output_type": "error",
     "traceback": [
      "\u001b[1;36m  Input \u001b[1;32mIn [18]\u001b[1;36m\u001b[0m\n\u001b[1;33m    1.Greater (>)\u001b[0m\n\u001b[1;37m      ^\u001b[0m\n\u001b[1;31mSyntaxError\u001b[0m\u001b[1;31m:\u001b[0m invalid syntax\n"
     ]
    }
   ],
   "source": [
    "#5. What are the six comparison operators\n",
    "1.Greater (>)\n",
    "2.Lesser(<)\n",
    "3.Greater equal(>=)\n",
    "4.Lesser equal(<=)\n",
    "5.Not equal(!=)\n",
    "6.equal equal(==)"
   ]
  },
  {
   "cell_type": "code",
   "execution_count": null,
   "id": "869a3c56",
   "metadata": {},
   "outputs": [],
   "source": [
    "#6. How do you tell the difference between the equal to and assignment operators?\n",
    "# Describe a condition and when you would use one.\n",
    "Equal to is used to make both variables are having same values.\n",
    "assignment operators are the one varaible in which we can store any value."
   ]
  },
  {
   "cell_type": "code",
   "execution_count": 22,
   "id": "f880943d",
   "metadata": {},
   "outputs": [
    {
     "name": "stdout",
     "output_type": "stream",
     "text": [
      "eggs\n",
      "bacon\n"
     ]
    }
   ],
   "source": [
    "spam = 10\n",
    "if spam == 10:\n",
    "    print('eggs')\n",
    "if spam > 5:\n",
    "    print('bacon')\n",
    "else:\n",
    "    print('ham')\n",
    "    print('spam')\n",
    "    print('spam')\n"
   ]
  },
  {
   "cell_type": "code",
   "execution_count": 25,
   "id": "e9864b5b",
   "metadata": {},
   "outputs": [
    {
     "name": "stdout",
     "output_type": "stream",
     "text": [
      "Enter the number: 3\n",
      "Greetings!\n"
     ]
    }
   ],
   "source": [
    "#8. Write code that prints Hello if 1 is stored in spam, prints Howdy if 2 is stored in spam,\n",
    "# and prints Greetings! if anything else is stored in spam.\n",
    "\n",
    "spam=int(input('Enter the number: '))\n",
    "if spam ==1:\n",
    "    print('Hello')\n",
    "elif spam ==2:\n",
    "    print('Howdy')\n",
    "else:\n",
    "    print('Greetings!')"
   ]
  },
  {
   "cell_type": "code",
   "execution_count": null,
   "id": "a20e8052",
   "metadata": {},
   "outputs": [],
   "source": [
    "#9.If your programme is stuck in an endless loop, what keys you’ll press?\n",
    "interrupt the kernel in jupyer"
   ]
  },
  {
   "cell_type": "code",
   "execution_count": null,
   "id": "c80ebad0",
   "metadata": {},
   "outputs": [],
   "source": [
    "#10. How can you tell the difference between break and continue?\n",
    "# Break- break is used to stop the loop and execute the next print statement\n",
    "# Continue - is used to run the next code without breaking"
   ]
  },
  {
   "cell_type": "code",
   "execution_count": null,
   "id": "400ad0e4",
   "metadata": {},
   "outputs": [],
   "source": [
    "#11. In a for loop, what is the difference between range(10), range(0, 10), and range(0, 10, 1)?\n",
    "#range(10),range(0,10) and range(0,10,1) all are same as it prints list . it will print 10 items 0 to 9.\n",
    "#third sample will print the items on gap mentioned at third index value in bracket."
   ]
  },
  {
   "cell_type": "code",
   "execution_count": 33,
   "id": "f5646e4f",
   "metadata": {},
   "outputs": [],
   "source": [
    "#12. Write a short program that prints the numbers 1 to 10 using a for loop. \n",
    "#Then write an equivalent program that prints the numbers 1 to 10 using a while loop.\n",
    "a=range(1,11)"
   ]
  },
  {
   "cell_type": "code",
   "execution_count": 34,
   "id": "0abdff17",
   "metadata": {},
   "outputs": [
    {
     "name": "stdout",
     "output_type": "stream",
     "text": [
      "range(1, 11)\n"
     ]
    }
   ],
   "source": [
    "print(a)"
   ]
  },
  {
   "cell_type": "code",
   "execution_count": 35,
   "id": "2b602a23",
   "metadata": {},
   "outputs": [
    {
     "name": "stdout",
     "output_type": "stream",
     "text": [
      "1\n",
      "2\n",
      "3\n",
      "4\n",
      "5\n",
      "6\n",
      "7\n",
      "8\n",
      "9\n",
      "10\n"
     ]
    }
   ],
   "source": [
    "for i in a:\n",
    "    print(i)"
   ]
  },
  {
   "cell_type": "code",
   "execution_count": null,
   "id": "8cce9214",
   "metadata": {},
   "outputs": [],
   "source": []
  }
 ],
 "metadata": {
  "kernelspec": {
   "display_name": "Python 3 (ipykernel)",
   "language": "python",
   "name": "python3"
  },
  "language_info": {
   "codemirror_mode": {
    "name": "ipython",
    "version": 3
   },
   "file_extension": ".py",
   "mimetype": "text/x-python",
   "name": "python",
   "nbconvert_exporter": "python",
   "pygments_lexer": "ipython3",
   "version": "3.9.12"
  }
 },
 "nbformat": 4,
 "nbformat_minor": 5
}
