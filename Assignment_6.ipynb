{
  "nbformat": 4,
  "nbformat_minor": 0,
  "metadata": {
    "colab": {
      "name": "Assignment 6.ipynb",
      "provenance": []
    },
    "kernelspec": {
      "name": "python3",
      "display_name": "Python 3"
    },
    "language_info": {
      "name": "python"
    }
  },
  "cells": [
    {
      "cell_type": "code",
      "execution_count": 1,
      "metadata": {
        "colab": {
          "base_uri": "https://localhost:8080/",
          "height": 35
        },
        "id": "8R717pkT8rXk",
        "outputId": "57a23454-8fac-4642-85c0-8d66af396537"
      },
      "outputs": [
        {
          "output_type": "execute_result",
          "data": {
            "text/plain": [
              "'e'"
            ],
            "application/vnd.google.colaboratory.intrinsic+json": {
              "type": "string"
            }
          },
          "metadata": {},
          "execution_count": 1
        }
      ],
      "source": [
        "#6. What are the values of the given expressions?\n",
        "'Hellow World'[1]"
      ]
    },
    {
      "cell_type": "code",
      "source": [
        "'Hellow World'[0:5]"
      ],
      "metadata": {
        "colab": {
          "base_uri": "https://localhost:8080/",
          "height": 35
        },
        "id": "9-gsiVkJ9oYN",
        "outputId": "da15519d-d249-44f3-ca32-295fc9fd08c6"
      },
      "execution_count": 2,
      "outputs": [
        {
          "output_type": "execute_result",
          "data": {
            "text/plain": [
              "'Hello'"
            ],
            "application/vnd.google.colaboratory.intrinsic+json": {
              "type": "string"
            }
          },
          "metadata": {},
          "execution_count": 2
        }
      ]
    },
    {
      "cell_type": "code",
      "source": [
        "'Hellow World'[:5]"
      ],
      "metadata": {
        "colab": {
          "base_uri": "https://localhost:8080/",
          "height": 35
        },
        "id": "vl-gjsuV9zIi",
        "outputId": "4aa994ad-e87e-4b69-b9a7-792f7fb45cc3"
      },
      "execution_count": 3,
      "outputs": [
        {
          "output_type": "execute_result",
          "data": {
            "text/plain": [
              "'Hello'"
            ],
            "application/vnd.google.colaboratory.intrinsic+json": {
              "type": "string"
            }
          },
          "metadata": {},
          "execution_count": 3
        }
      ]
    },
    {
      "cell_type": "code",
      "source": [
        "'Hellow World'[3:]"
      ],
      "metadata": {
        "colab": {
          "base_uri": "https://localhost:8080/",
          "height": 35
        },
        "id": "ics8x_4P93HF",
        "outputId": "9d6196f5-d39f-433e-c5d2-16fae6428d6e"
      },
      "execution_count": 4,
      "outputs": [
        {
          "output_type": "execute_result",
          "data": {
            "text/plain": [
              "'low World'"
            ],
            "application/vnd.google.colaboratory.intrinsic+json": {
              "type": "string"
            }
          },
          "metadata": {},
          "execution_count": 4
        }
      ]
    },
    {
      "cell_type": "code",
      "source": [
        "#7. What are the values of the following expressions?"
      ],
      "metadata": {
        "id": "Xfeow73o9666"
      },
      "execution_count": null,
      "outputs": []
    },
    {
      "cell_type": "code",
      "source": [
        "'Hellow'.upper()"
      ],
      "metadata": {
        "colab": {
          "base_uri": "https://localhost:8080/",
          "height": 35
        },
        "id": "JWeiCeSe-DhN",
        "outputId": "9f02344a-245a-48e0-9cbf-c5e1709eabd8"
      },
      "execution_count": 5,
      "outputs": [
        {
          "output_type": "execute_result",
          "data": {
            "text/plain": [
              "'HELLOW'"
            ],
            "application/vnd.google.colaboratory.intrinsic+json": {
              "type": "string"
            }
          },
          "metadata": {},
          "execution_count": 5
        }
      ]
    },
    {
      "cell_type": "code",
      "source": [
        "'Hellow'.upper().isupper()"
      ],
      "metadata": {
        "colab": {
          "base_uri": "https://localhost:8080/"
        },
        "id": "L0vHBscd-Hzb",
        "outputId": "72f71d58-5fc9-4aff-fb41-1daa98ff5fbb"
      },
      "execution_count": 6,
      "outputs": [
        {
          "output_type": "execute_result",
          "data": {
            "text/plain": [
              "True"
            ]
          },
          "metadata": {},
          "execution_count": 6
        }
      ]
    },
    {
      "cell_type": "code",
      "source": [
        "'Hellow'.upper().lower()"
      ],
      "metadata": {
        "colab": {
          "base_uri": "https://localhost:8080/",
          "height": 35
        },
        "id": "tbzXSgQE-NVN",
        "outputId": "966d3e1c-a3d7-45ce-ff15-64c86eacb123"
      },
      "execution_count": 7,
      "outputs": [
        {
          "output_type": "execute_result",
          "data": {
            "text/plain": [
              "'hellow'"
            ],
            "application/vnd.google.colaboratory.intrinsic+json": {
              "type": "string"
            }
          },
          "metadata": {},
          "execution_count": 7
        }
      ]
    },
    {
      "cell_type": "code",
      "source": [
        "#8. What are the values of the following expressions?\n",
        "'Remember, remember, the fifth of July'.split()"
      ],
      "metadata": {
        "colab": {
          "base_uri": "https://localhost:8080/"
        },
        "id": "0WYP-NSl-SdT",
        "outputId": "51ceae15-3e53-41be-98c1-fbfda564426d"
      },
      "execution_count": 9,
      "outputs": [
        {
          "output_type": "execute_result",
          "data": {
            "text/plain": [
              "['Remember,', 'remember,', 'the', 'fifth', 'of', 'July']"
            ]
          },
          "metadata": {},
          "execution_count": 9
        }
      ]
    },
    {
      "cell_type": "code",
      "source": [
        "#9. What are the methods for right-justifying, left-justifying, and centering a string?\n",
        "# Python3 code to demonstrate \n",
        "# the working of center()\n",
        "\n",
        "Test = \" India is my country\"\n",
        "#Print(\"The original string is : \\n\", Test, \"\\n\")\n",
        "print(Test.center(50,\"@\"))\n",
        "print(Test.center(50),\"\")\n",
        "print(Test.ljust(50,\"_\"))\n",
        "print(Test.rjust(50),\"*\")\n",
        "print(Test.rjust(50,\"*\"))"
      ],
      "metadata": {
        "colab": {
          "base_uri": "https://localhost:8080/"
        },
        "id": "WgNfFBKX-hqX",
        "outputId": "68ffaca3-a0fd-44ec-f2d8-30d2e816208b"
      },
      "execution_count": 33,
      "outputs": [
        {
          "output_type": "stream",
          "name": "stdout",
          "text": [
            "@@@@@@@@@@@@@@@ India is my country@@@@@@@@@@@@@@@\n",
            "                India is my country                \n",
            " India is my country______________________________\n",
            "                               India is my country *\n",
            "****************************** India is my country\n"
          ]
        }
      ]
    },
    {
      "cell_type": "code",
      "source": [
        "#10. What is the best way to remove whitespace characters from the start or end?\n",
        "by using ltrim()"
      ],
      "metadata": {
        "id": "enQVQicXAOWf"
      },
      "execution_count": null,
      "outputs": []
    }
  ]
}