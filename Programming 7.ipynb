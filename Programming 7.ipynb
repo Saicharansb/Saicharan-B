{
 "cells": [
  {
   "cell_type": "markdown",
   "id": "46d9e3c4",
   "metadata": {},
   "source": [
    "1. Write a Python Program to find sum of array?\n",
    "2. Write a Python Program to find largest element in an array?\n",
    "3. Write a Python Program for array rotation?\n",
    "4. Write a Python Program to Split the array and add the first part to the end?\n",
    "5. Write a Python Program to check if given array is Monotonic?\n"
   ]
  },
  {
   "cell_type": "code",
   "execution_count": 1,
   "id": "1f23d206",
   "metadata": {},
   "outputs": [],
   "source": [
    "#Write a Python Program to find sum of array?"
   ]
  },
  {
   "cell_type": "code",
   "execution_count": 9,
   "id": "5cab7069",
   "metadata": {},
   "outputs": [],
   "source": [
    "arr = [2,3,12, 3, 4, 15]"
   ]
  },
  {
   "cell_type": "code",
   "execution_count": 10,
   "id": "15a27f6f",
   "metadata": {},
   "outputs": [
    {
     "data": {
      "text/plain": [
       "39"
      ]
     },
     "execution_count": 10,
     "metadata": {},
     "output_type": "execute_result"
    }
   ],
   "source": [
    "ans=sum(arr)\n",
    "ans"
   ]
  },
  {
   "cell_type": "code",
   "execution_count": 16,
   "id": "231489f5",
   "metadata": {},
   "outputs": [
    {
     "name": "stdout",
     "output_type": "stream",
     "text": [
      "9808\n"
     ]
    }
   ],
   "source": [
    "arr = [10, 89, 9, 56, 4, 80, 8,10, 324, 45, 90, 9808]\n",
    "max_element = a[0]\n",
    "\n",
    "for i in range(len(a)):\n",
    "    if a[i] > max_element:\n",
    "        max_element = a[i]\n",
    "\n",
    "print (max_element)"
   ]
  },
  {
   "cell_type": "code",
   "execution_count": 25,
   "id": "25a6ebb2",
   "metadata": {},
   "outputs": [
    {
     "name": "stdout",
     "output_type": "stream",
     "text": [
      "[2, 3, 4, 5, 6, 7, 8, 9, 1]\n"
     ]
    }
   ],
   "source": [
    "def rotateArray(a,d):\n",
    "    temp = []  \n",
    "    n=len(a)\n",
    "    for i in range(d,n):\n",
    "        temp.append(a[i])\n",
    "    i = 0\n",
    "    for i in range (0,d):\n",
    "        temp.append(a[i])\n",
    "    a=temp.copy()\n",
    "    return a\n",
    " \n",
    "arr = [1, 2, 3, 4, 5, 6, 7,8,9]\n",
    "\n",
    "print(rotateArray(arr, 1))\n"
   ]
  },
  {
   "cell_type": "code",
   "execution_count": 29,
   "id": "808f49a0",
   "metadata": {},
   "outputs": [
    {
     "name": "stdout",
     "output_type": "stream",
     "text": [
      "Output array is [17, 45, 66, 10, 13, 5]\n"
     ]
    }
   ],
   "source": [
    "def split(arr, k):\n",
    "    arr = arr[k:] + arr[:k]\n",
    "    return arr\n",
    "   \n",
    "k = 3\n",
    "arr = [10, 13, 5, 17,45,66]\n",
    "print(\"Output array is\", split(arr, k))"
   ]
  },
  {
   "cell_type": "code",
   "execution_count": 32,
   "id": "064dbbd9",
   "metadata": {},
   "outputs": [
    {
     "name": "stdout",
     "output_type": "stream",
     "text": [
      "Output array is 156\n"
     ]
    }
   ],
   "source": [
    "# add the first part to the end?\n",
    "def split(arr, k):\n",
    "    arr = sum((arr[k:] + arr[:k]))\n",
    "    return arr\n",
    "   \n",
    "k = 3\n",
    "arr = [10, 13, 5, 17,45,66]\n",
    "print(\"Output array is\", split(arr, k))"
   ]
  },
  {
   "cell_type": "code",
   "execution_count": 34,
   "id": "486d17d0",
   "metadata": {},
   "outputs": [
    {
     "data": {
      "text/plain": [
       "150"
      ]
     },
     "execution_count": 34,
     "metadata": {},
     "output_type": "execute_result"
    }
   ],
   "source": [
    "sum(arr = [10, 13, 5, 17,45,60])"
   ]
  },
  {
   "cell_type": "code",
   "execution_count": 36,
   "id": "9003ea7a",
   "metadata": {},
   "outputs": [
    {
     "name": "stdout",
     "output_type": "stream",
     "text": [
      "True\n",
      "False\n",
      "True\n",
      "True\n"
     ]
    }
   ],
   "source": [
    "def ismonotone(a):\n",
    "    n=len(a) \n",
    "    if n==1:\n",
    "        return True\n",
    "    else:\n",
    "        if all(a[i]>=a[i+1] \n",
    "               for i in range(0,n-1) or a[i]<=a[i+1] for i in range(0,n-1)):\n",
    "            return True\n",
    "        else:\n",
    "            return False\n",
    "\n",
    "a = [6, 5, 4, 2]\n",
    "print(ismonotone(a))\n",
    "b = [6, 2, 4, 2]\n",
    "print(ismonotone(b))\n",
    "c=[4,3,2]\n",
    "print(ismonotone(c))\n",
    "d=[1]\n",
    "print(ismonotone(d))\n"
   ]
  },
  {
   "cell_type": "code",
   "execution_count": null,
   "id": "9684a9bd",
   "metadata": {},
   "outputs": [],
   "source": []
  }
 ],
 "metadata": {
  "kernelspec": {
   "display_name": "Python 3 (ipykernel)",
   "language": "python",
   "name": "python3"
  },
  "language_info": {
   "codemirror_mode": {
    "name": "ipython",
    "version": 3
   },
   "file_extension": ".py",
   "mimetype": "text/x-python",
   "name": "python",
   "nbconvert_exporter": "python",
   "pygments_lexer": "ipython3",
   "version": "3.9.12"
  }
 },
 "nbformat": 4,
 "nbformat_minor": 5
}
