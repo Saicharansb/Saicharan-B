{
 "cells": [
  {
   "cell_type": "code",
   "execution_count": null,
   "id": "daef043b",
   "metadata": {},
   "outputs": [],
   "source": [
    "#1. Why are functions advantageous to have in your programs?\n",
    "'''with the help of functions we can easily perform our required logical task. Codes have been already made by some \n",
    "of the coder we are just using same.'''"
   ]
  },
  {
   "cell_type": "code",
   "execution_count": null,
   "id": "1f94112c",
   "metadata": {},
   "outputs": [],
   "source": [
    "#2. When does the code in a function run: when it's specified or when it's called?\n",
    "''' Yes, when we specified then only code can run.'''"
   ]
  },
  {
   "cell_type": "code",
   "execution_count": null,
   "id": "ded9f5af",
   "metadata": {},
   "outputs": [],
   "source": [
    "#3. What statement creates a function?\n",
    "''' by using standard code  def '''"
   ]
  },
  {
   "cell_type": "code",
   "execution_count": null,
   "id": "d989733c",
   "metadata": {},
   "outputs": [],
   "source": [
    "#4. What is the difference between a function and a function call?\n",
    "'''function is a logic which we can creat by using def. once it created we can use several times.  for using several times \n",
    "we use to call the function.'''"
   ]
  },
  {
   "cell_type": "code",
   "execution_count": null,
   "id": "6c6105a3",
   "metadata": {},
   "outputs": [],
   "source": [
    "#5. How many global scopes are there in a Python program? How many local scopes?\n",
    "''' Local, global and built-in. only one local scope available which is inside function only'''"
   ]
  },
  {
   "cell_type": "code",
   "execution_count": null,
   "id": "99763649",
   "metadata": {},
   "outputs": [],
   "source": [
    "#6. What happens to variables in a local scope when the function call returns?\n",
    "'''return uses the data type as used for like str,int or float'''"
   ]
  },
  {
   "cell_type": "code",
   "execution_count": null,
   "id": "cf0a2cbc",
   "metadata": {},
   "outputs": [],
   "source": [
    "#7. What is the concept of a return value? Is it possible to have a return value in an expression?\n",
    "''' return value is concept of printing the out put as specified in code. yes it is possible to use retun value in expression'''"
   ]
  },
  {
   "cell_type": "code",
   "execution_count": null,
   "id": "382ca766",
   "metadata": {},
   "outputs": [],
   "source": [
    "#If a function does not have a return statement, what is the return value of a call to that function?\n",
    "'''undefined'''"
   ]
  },
  {
   "cell_type": "code",
   "execution_count": null,
   "id": "8919416d",
   "metadata": {},
   "outputs": [],
   "source": [
    "#How do you make a function variable refer to the global variable?\n",
    "'''we must declare it to be a global first, then modifications reflected on the module's global scope'''"
   ]
  },
  {
   "cell_type": "code",
   "execution_count": null,
   "id": "b9f3534d",
   "metadata": {},
   "outputs": [],
   "source": [
    "#10. What is the data type of None?\n",
    "'''The None keyword is used to define a null value. \n",
    "None is not the same as 0, False, or an empty string. \n",
    "None is a data type of its own and only None can be None.'''"
   ]
  },
  {
   "cell_type": "code",
   "execution_count": null,
   "id": "8d7424be",
   "metadata": {},
   "outputs": [],
   "source": []
  }
 ],
 "metadata": {
  "kernelspec": {
   "display_name": "Python 3 (ipykernel)",
   "language": "python",
   "name": "python3"
  },
  "language_info": {
   "codemirror_mode": {
    "name": "ipython",
    "version": 3
   },
   "file_extension": ".py",
   "mimetype": "text/x-python",
   "name": "python",
   "nbconvert_exporter": "python",
   "pygments_lexer": "ipython3",
   "version": "3.9.12"
  }
 },
 "nbformat": 4,
 "nbformat_minor": 5
}
